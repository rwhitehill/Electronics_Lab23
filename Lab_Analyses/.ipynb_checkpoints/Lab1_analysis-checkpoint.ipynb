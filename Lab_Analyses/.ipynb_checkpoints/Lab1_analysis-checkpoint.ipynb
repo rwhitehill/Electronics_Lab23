{
 "cells": [
  {
   "cell_type": "code",
   "execution_count": 1,
   "id": "1aa0141f-e5f6-490c-a6fe-4970a9422d04",
   "metadata": {},
   "outputs": [],
   "source": [
    "from error_prop import print_err_report"
   ]
  },
  {
   "cell_type": "markdown",
   "id": "7f7bcddf-3038-40af-9840-62974db23ca4",
   "metadata": {},
   "source": [
    "# Part A"
   ]
  },
  {
   "cell_type": "code",
   "execution_count": 2,
   "id": "90cb1d8b-9129-42ce-b40f-171f2266d21f",
   "metadata": {},
   "outputs": [
    {
     "name": "stdout",
     "output_type": "stream",
     "text": [
      "3.13 volt +- 0.01414213562373095 volt\n"
     ]
    }
   ],
   "source": [
    "data = {'V1': [1.57,0.01,'V'],\n",
    "        'V2': [1.56,0.01,'V']\n",
    "       }\n",
    "# series\n",
    "expr = 'V1+V2'\n",
    "# print('%f +- %f'%get_nominal_error(expr,data))\n",
    "print_err_report(expr,data)\n",
    "\n",
    "# reverse polarity\n",
    "expr = 'V1-V2'\n",
    "# print(print('%f +- %f'%get_nominal_error(expr,data)))"
   ]
  },
  {
   "cell_type": "code",
   "execution_count": null,
   "id": "14abd10c-b1d1-4c86-a0b0-dd52bb6253a2",
   "metadata": {},
   "outputs": [],
   "source": [
    "import pint\n",
    "ureg = pint.UnitRegistry()\n",
    "Q_   = ureg.Quantity"
   ]
  },
  {
   "cell_type": "code",
   "execution_count": null,
   "id": "a6ef08e5-3751-49f4-ada2-8a96c2ee5594",
   "metadata": {},
   "outputs": [],
   "source": [
    "1*Q_(1,'kg')"
   ]
  },
  {
   "cell_type": "markdown",
   "id": "b219d1f6-35c7-4b61-ba35-8e6cb9c1c584",
   "metadata": {},
   "source": [
    "# Part B"
   ]
  },
  {
   "cell_type": "code",
   "execution_count": null,
   "id": "b4b350e8-37df-4212-bc9d-9b7f91334dab",
   "metadata": {},
   "outputs": [],
   "source": []
  },
  {
   "cell_type": "code",
   "execution_count": null,
   "id": "05a7858d-434d-4818-b7bf-cd2440ab0a07",
   "metadata": {},
   "outputs": [],
   "source": []
  },
  {
   "cell_type": "code",
   "execution_count": null,
   "id": "58773a1c-45ce-4e7b-a9bd-565a45d76c7a",
   "metadata": {},
   "outputs": [],
   "source": []
  }
 ],
 "metadata": {
  "kernelspec": {
   "display_name": "Python 3 (ipykernel)",
   "language": "python",
   "name": "python3"
  },
  "language_info": {
   "codemirror_mode": {
    "name": "ipython",
    "version": 3
   },
   "file_extension": ".py",
   "mimetype": "text/x-python",
   "name": "python",
   "nbconvert_exporter": "python",
   "pygments_lexer": "ipython3",
   "version": "3.9.7"
  }
 },
 "nbformat": 4,
 "nbformat_minor": 5
}
