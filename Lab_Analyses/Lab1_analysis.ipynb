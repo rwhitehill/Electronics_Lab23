{
 "cells": [
  {
   "cell_type": "code",
   "execution_count": 2,
   "id": "1aa0141f-e5f6-490c-a6fe-4970a9422d04",
   "metadata": {},
   "outputs": [],
   "source": [
    "from error_prop import print_err_report\n",
    "import numpy as np"
   ]
  },
  {
   "cell_type": "code",
   "execution_count": 3,
   "id": "67708c65-7911-48aa-88d4-db021118d3c6",
   "metadata": {},
   "outputs": [],
   "source": [
    "import pint\n",
    "ureg = pint.UnitRegistry()\n",
    "Q_   = ureg.Quantity"
   ]
  },
  {
   "cell_type": "code",
   "execution_count": 4,
   "id": "4bd1882f-b2b5-482e-815f-6a2a89249b4c",
   "metadata": {},
   "outputs": [],
   "source": [
    "import matplotlib.pyplot as plt\n",
    "\n",
    "import matplotlib\n",
    "matplotlib.rcParams['text.latex.preamble'] = r'\\usepackage{amsmath} \\usepackage{siunitx}'\n",
    "matplotlib.rc('text', usetex = True)"
   ]
  },
  {
   "cell_type": "markdown",
   "id": "7f7bcddf-3038-40af-9840-62974db23ca4",
   "metadata": {},
   "source": [
    "# Part A"
   ]
  },
  {
   "cell_type": "code",
   "execution_count": 2,
   "id": "90cb1d8b-9129-42ce-b40f-171f2266d21f",
   "metadata": {},
   "outputs": [
    {
     "name": "stdout",
     "output_type": "stream",
     "text": [
      "3.13 volt +- 0.01 volt\n",
      "0.01 volt +- 0.01 volt\n"
     ]
    }
   ],
   "source": [
    "data = {'V1': [1.57,0.01,'V'],\n",
    "        'V2': [1.56,0.01,'V']\n",
    "       }\n",
    "# series\n",
    "expr = 'V1+V2'\n",
    "print_err_report(expr,data)\n",
    "\n",
    "# reverse polarity\n",
    "expr = 'V1-V2'\n",
    "print_err_report(expr,data)"
   ]
  },
  {
   "cell_type": "markdown",
   "id": "b219d1f6-35c7-4b61-ba35-8e6cb9c1c584",
   "metadata": {},
   "source": [
    "# Part C"
   ]
  },
  {
   "cell_type": "code",
   "execution_count": 3,
   "id": "b4b350e8-37df-4212-bc9d-9b7f91334dab",
   "metadata": {},
   "outputs": [
    {
     "name": "stdout",
     "output_type": "stream",
     "text": [
      "[1, 0, 0, 0, 0, 1, 1, 1, 1, 1]\n"
     ]
    }
   ],
   "source": [
    "listed   = np.array([47e0,5.8e0,2.2e0,68e-1,27e-1,68e1,18e1,12e1,47e0,68e0])\n",
    "tol      = 0.05\n",
    "\n",
    "measured = np.array([47.4,5.5,3.1,9.1,4.5,6.79e02,1.88e02,1.22e02,4.68e01,6.73e01])\n",
    "\n",
    "print([1 if 0.95*lis < meas < 1.05*lis else 0 for lis,meas in zip(listed,measured)])\n",
    "\n",
    "# good to measure the resistance\n",
    "#     - the size of the tolerance varies at 5% between small and large resistors\n",
    "#     - resistace can potentially vary with external conditions (temperature, etc.)"
   ]
  },
  {
   "cell_type": "code",
   "execution_count": 4,
   "id": "58773a1c-45ce-4e7b-a9bd-565a45d76c7a",
   "metadata": {},
   "outputs": [
    {
     "name": "stdout",
     "output_type": "stream",
     "text": [
      "122.9 ohm +- 0.1 ohm\n",
      "29.14 ohm +- 0.04 ohm\n"
     ]
    }
   ],
   "source": [
    "data = {'R1': [47.5,0.1,'ohm'],\n",
    "        'R2': [75.4,0.1,'ohm']\n",
    "       }\n",
    "# series\n",
    "expr = 'R1 + R2'\n",
    "print_err_report(expr,data)\n",
    "\n",
    "# parallel\n",
    "expr = '1/(1/R1 + 1/R2)'\n",
    "print_err_report(expr,data)"
   ]
  },
  {
   "cell_type": "markdown",
   "id": "474c5700-0980-40fe-99a5-f9abf3ed4ecd",
   "metadata": {},
   "source": [
    "# Part D"
   ]
  },
  {
   "cell_type": "code",
   "execution_count": 5,
   "id": "5b363709-198a-4015-9f9c-2e8e62a0f91c",
   "metadata": {},
   "outputs": [
    {
     "name": "stdout",
     "output_type": "stream",
     "text": [
      "2.7 milliampere +- 0.2 milliampere\n"
     ]
    }
   ],
   "source": [
    "data = {'V': [1.5,0.1,'V'],\n",
    "        'R': [0.554,0.001,'kohm']\n",
    "       }\n",
    "expr = 'V/R'\n",
    "print_err_report(expr,data,'mA')"
   ]
  },
  {
   "cell_type": "markdown",
   "id": "13301f8b-675d-4914-b368-be75beb506df",
   "metadata": {},
   "source": [
    "# Part E"
   ]
  },
  {
   "cell_type": "code",
   "execution_count": 7,
   "id": "7f3e2ffd-82a9-47ad-a295-bab20c849c91",
   "metadata": {},
   "outputs": [
    {
     "name": "stdout",
     "output_type": "stream",
     "text": [
      "27.0 microampere +- 2.0 microampere\n"
     ]
    }
   ],
   "source": [
    "data = {'V': [1.5,0.1,'V'],\n",
    "        'R': [55.0,0.1,'kohm']\n",
    "       }\n",
    "expr = 'V/R'\n",
    "print_err_report(expr,data,'uA')"
   ]
  },
  {
   "cell_type": "code",
   "execution_count": 8,
   "id": "14648d42-eee7-488f-8483-4d038672829e",
   "metadata": {},
   "outputs": [
    {
     "name": "stdout",
     "output_type": "stream",
     "text": [
      "[0.18 0.36 0.55 0.73 0.91]\n"
     ]
    }
   ],
   "source": [
    "load   = Q_(np.array([100.0,200.0,300.0,400.0,500.0]),'ohm')\n",
    "series = Q_(55.0,'kohm')\n",
    "\n",
    "percents = (load/series).to('').magnitude*100\n",
    "\n",
    "with np.printoptions(precision=2):\n",
    "    print(percents)"
   ]
  },
  {
   "cell_type": "code",
   "execution_count": 30,
   "id": "43e31c80-aa5e-4738-b336-d98b60e956c4",
   "metadata": {},
   "outputs": [
    {
     "name": "stdout",
     "output_type": "stream",
     "text": [
      "27.0 microampere +- 2.0 microampere\n",
      "27.0 microampere +- 2.0 microampere\n",
      "27.0 microampere +- 2.0 microampere\n",
      "27.0 microampere +- 2.0 microampere\n",
      "27.0 microampere +- 2.0 microampere\n"
     ]
    }
   ],
   "source": [
    "data = {'V': [1.5,0.1,'V'],\n",
    "        'Rl': [55.0,0.1,'kohm'],\n",
    "        'RL': [np.array([100.0,200.0,300.0,400.0,500.0]),0.02*np.array([100.0,200.0,300.0,400.0,500.0]),'ohm']\n",
    "       }\n",
    "expr = 'V/(Rl+RL)'\n",
    "print_err_report(expr,data,'uA')"
   ]
  },
  {
   "cell_type": "code",
   "execution_count": 44,
   "id": "b2fa3b08-0ca2-478e-954f-d69a937a76f7",
   "metadata": {},
   "outputs": [
    {
     "data": {
      "image/png": "[encoded data removed]",
      "text/plain": [
       "<Figure size 504x360 with 1 Axes>"
      ]
     },
     "metadata": {
      "needs_background": "light"
     },
     "output_type": "display_data"
    }
   ],
   "source": [
    "load    = Q_(np.array([100.0,200.0,300.0,400.0,500.0]),'ohm')\n",
    "current = Q_(np.array([27.1,27.1,27,27,26.9]),'uA')\n",
    "voltage = Q_(np.array([2.2,5.4,8.0,10.7,12.9]),'mV')\n",
    "\n",
    "# current_from_voltage = Q_(1.5,'V')/(load+series)\n",
    "current_from_voltage = current_from_voltage.to(current.units)\n",
    "\n",
    "fig,ax = plt.subplots(nrows=1,ncols=1,figsize=(7,5))\n",
    "\n",
    "ax.axhline(y=27.0,ls='--',color='b')\n",
    "ax.axhline(y=29.0,ls='-',color='b')\n",
    "ax.axhline(y=25.0,ls='-',color='b')\n",
    "\n",
    "ax.plot(load.magnitude,current.magnitude,'k.')\n",
    "ax.errorbar(load.magnitude,current.magnitude,yerr=0.1,color='k',linestyle='None',capsize=3)\n",
    "\n",
    "# ax.legend(loc='best',fontsize=20)\n",
    "ax.set_xlabel(r'$R_L ~ [{:Lx}]$'.format(load.units),size=25)\n",
    "ax.set_ylabel(r'$I ~ [{:Lx}]$'.format(current.units),size=25)\n",
    "ax.tick_params(which='major',axis='both',direction='in',labelsize=20)\n",
    "\n",
    "plt.show()\n",
    "# fig.savefig('current_source.pdf',bbox_inches='tight')"
   ]
  },
  {
   "cell_type": "markdown",
   "id": "022850fd-9053-4ad4-8afd-4d9c2ab116bf",
   "metadata": {},
   "source": [
    "# Part F"
   ]
  },
  {
   "cell_type": "code",
   "execution_count": 50,
   "id": "7c72f8c0-4200-4033-876c-233dfb22e881",
   "metadata": {},
   "outputs": [
    {
     "name": "stdout",
     "output_type": "stream",
     "text": [
      "0.68 dimensionless +- 0.01 dimensionless\n",
      "0.322 dimensionless +- 0.006 dimensionless\n"
     ]
    }
   ],
   "source": [
    "# no load - R1\n",
    "data = {'Vi': [5.0,0.1,'V'],\n",
    "        'V1': [3.411,0.001,'V']\n",
    "       }\n",
    "expr = 'V1/Vi'\n",
    "print_err_report(expr,data)\n",
    "\n",
    "# no load - R2\n",
    "data = {'Vi': [5.0,0.1,'V'],\n",
    "        'V2': [1.612,0.001,'V']\n",
    "       }\n",
    "expr = 'V2/Vi'\n",
    "print_err_report(expr,data)"
   ]
  },
  {
   "cell_type": "code",
   "execution_count": 57,
   "id": "312bcbff-efa6-4b80-904a-311b9af7d1ca",
   "metadata": {},
   "outputs": [
    {
     "name": "stdout",
     "output_type": "stream",
     "text": [
      "0.679 dimensionless +- 0.0004 dimensionless\n",
      "0.321 dimensionless +- 0.0004 dimensionless\n"
     ]
    }
   ],
   "source": [
    "# expected - R1\n",
    "data = {'R1': [5.60,0.01,'kohm'],\n",
    "        'R2': [2.647,0.001,'kohm']\n",
    "       }\n",
    "expr = 'R1/(R1+R2)'\n",
    "print_err_report(expr,data)\n",
    "\n",
    "# expected - R2\n",
    "data = {'R1': [5.60,0.01,'kohm'],\n",
    "        'R2': [2.647,0.001,'kohm']\n",
    "       }\n",
    "expr = 'R2/(R1+R2)'\n",
    "print_err_report(expr,data)"
   ]
  },
  {
   "cell_type": "code",
   "execution_count": 51,
   "id": "8dc2086e-d731-475b-a3b9-b2c0c4e4a59a",
   "metadata": {},
   "outputs": [
    {
     "name": "stdout",
     "output_type": "stream",
     "text": [
      "0.244 dimensionless +- 0.005 dimensionless\n",
      "0.115 dimensionless +- 0.002 dimensionless\n"
     ]
    }
   ],
   "source": [
    "# with load - R1\n",
    "data = {'Vi': [5.0,0.1,'V'],\n",
    "        'V1': [1.221,0.001,'V']\n",
    "       }\n",
    "expr = 'V1/Vi'\n",
    "print_err_report(expr,data)\n",
    "\n",
    "# with load - R2\n",
    "data = {'Vi': [5.0,0.1,'V'],\n",
    "        'V2': [0.576,0.001,'V']\n",
    "       }\n",
    "expr = 'V2/Vi'\n",
    "print_err_report(expr,data)"
   ]
  },
  {
   "cell_type": "code",
   "execution_count": 59,
   "id": "3a8fa6b7-3a68-407b-a2bf-3804fb116ba1",
   "metadata": {},
   "outputs": [
    {
     "name": "stdout",
     "output_type": "stream",
     "text": [
      "0.24 dimensionless +- 0.02 dimensionless\n",
      "0.115 dimensionless +- 0.007 dimensionless\n"
     ]
    }
   ],
   "source": [
    "# expected - R1\n",
    "data = {'R1': [5.60,0.01,'kohm'],\n",
    "        'R2': [2.647,0.001,'kohm'],\n",
    "        'RL': [1.0,0.1,'kohm']\n",
    "       }\n",
    "expr = 'R1*RL/((R1+RL)*R2 + R1*RL)'\n",
    "print_err_report(expr,data)\n",
    "\n",
    "# expected - R2\n",
    "data = {'R1': [5.60,0.01,'kohm'],\n",
    "        'R2': [2.647,0.001,'kohm'],\n",
    "        'RL': [1.0,0.1,'kohm']\n",
    "       }\n",
    "expr = 'R2*RL/((R2+RL)*R1 + R2*RL)'\n",
    "print_err_report(expr,data)"
   ]
  },
  {
   "cell_type": "code",
   "execution_count": null,
   "id": "c909d4f0-7728-4337-a6a3-e6bfea324a12",
   "metadata": {},
   "outputs": [],
   "source": []
  }
 ],
 "metadata": {
  "kernelspec": {
   "display_name": "Python 3 (ipykernel)",
   "language": "python",
   "name": "python3"
  },
  "language_info": {
   "codemirror_mode": {
    "name": "ipython",
    "version": 3
   },
   "file_extension": ".py",
   "mimetype": "text/x-python",
   "name": "python",
   "nbconvert_exporter": "python",
   "pygments_lexer": "ipython3",
   "version": "3.10.6"
  }
 },
 "nbformat": 4,
 "nbformat_minor": 5
}
