{
 "cells": [
  {
   "cell_type": "code",
   "execution_count": 3,
   "id": "c21221af-6f38-4e02-be6c-4289b8a77499",
   "metadata": {},
   "outputs": [],
   "source": [
    "from error_prop import print_err_report\n",
    "import numpy as np"
   ]
  },
  {
   "cell_type": "code",
   "execution_count": 4,
   "id": "7759c3da-bf9a-4f89-ae09-26cf3ead9d9d",
   "metadata": {},
   "outputs": [],
   "source": [
    "import pint\n",
    "ureg = pint.UnitRegistry()\n",
    "Q_   = ureg.Quantity"
   ]
  },
  {
   "cell_type": "code",
   "execution_count": 5,
   "id": "5b16a86a-6c1f-46e4-b4b4-ceb6948173b6",
   "metadata": {},
   "outputs": [],
   "source": [
    "import matplotlib.pyplot as plt\n",
    "params = {}\n",
    "params['text.latex.preamble'] = r'\\usepackage{amsmath}'\n",
    "params['text.usetex'] = True\n",
    "params['font.family'] = 'sans-serif'\n",
    "params['font.sans-serif'] = ['Helvetica']\n",
    "plt.rcParams.update(params)"
   ]
  },
  {
   "cell_type": "markdown",
   "id": "789cc65c-ddea-4fc0-9e1f-8c18b5544e60",
   "metadata": {},
   "source": [
    "# 2. Measurement of Frequency"
   ]
  },
  {
   "cell_type": "code",
   "execution_count": 6,
   "id": "9c54a5a8-c67d-49f8-8e47-97b1754476b3",
   "metadata": {},
   "outputs": [
    {
     "name": "stdout",
     "output_type": "stream",
     "text": [
      "10000.0 hertz +- 500.0 hertz\n",
      "50.0 hertz +- 2.0 hertz\n",
      "480.0 hertz +- 20.0 hertz\n",
      "2000.0 hertz +- 80.0 hertz\n",
      "29400.0 hertz +- 900.0 hertz\n"
     ]
    }
   ],
   "source": [
    "data = {\n",
    "    'n_divs': [np.array([2,2,2.1,2.5,3.4]),\n",
    "        0.1*np.ones(5),\n",
    "        ''\n",
    "    ],\n",
    "    'divs': [\n",
    "        np.array([50e-6,10e-3,1e-3,0.2e-3,10e-6]),\n",
    "        np.zeros(5),\n",
    "        's'\n",
    "    ]\n",
    "}\n",
    "expr = '1/(n_divs*divs)'\n",
    "print_err_report(expr,data,'Hz')"
   ]
  },
  {
   "cell_type": "markdown",
   "id": "a6c25252-942e-4de5-9675-15724c24552b",
   "metadata": {},
   "source": [
    "# 3. Time Constant of an RC Circuit"
   ]
  },
  {
   "cell_type": "code",
   "execution_count": 7,
   "id": "97eb88de-e00d-4e6e-87bf-123a2fa6bcdb",
   "metadata": {},
   "outputs": [
    {
     "name": "stdout",
     "output_type": "stream",
     "text": [
      "6.299999999999999 dimensionless +- 0.29999999999999993 dimensionless\n"
     ]
    }
   ],
   "source": [
    "data = {\n",
    "    'C':      [3.145,0.001,'nF'],\n",
    "    'R':      [5.59,0.01,'kohm'],\n",
    "    'n_divs': [2.2,0.1,''],\n",
    "    'divs':   [50,0,'microsec']\n",
    "}\n",
    "expr = '(n_divs*divs)/(R*C)'\n",
    "print_err_report(expr,data,'dimensionless')"
   ]
  },
  {
   "cell_type": "markdown",
   "id": "2a889c95-a096-4e13-b03a-de5776c6e5b8",
   "metadata": {},
   "source": [
    "# 4. RC Low-Pass Filter"
   ]
  },
  {
   "cell_type": "code",
   "execution_count": 8,
   "id": "44a95e2a-765f-46b1-9ea7-776f40ab6d31",
   "metadata": {},
   "outputs": [
    {
     "name": "stdout",
     "output_type": "stream",
     "text": [
      "0.92 dimensionless +- 0.04 dimensionless\n",
      "0.96 dimensionless +- 0.04 dimensionless\n",
      "1.0 dimensionless +- 0.04 dimensionless\n",
      "0.96 dimensionless +- 0.04 dimensionless\n",
      "0.96 dimensionless +- 0.04 dimensionless\n",
      "0.96 dimensionless +- 0.04 dimensionless\n",
      "0.92 dimensionless +- 0.04 dimensionless\n",
      "0.92 dimensionless +- 0.04 dimensionless\n",
      "0.8 dimensionless +- 0.04 dimensionless\n",
      "0.48 dimensionless +- 0.02 dimensionless\n",
      "0.208 dimensionless +- 0.009 dimensionless\n",
      "0.044 dimensionless +- 0.004 dimensionless\n",
      "0.54 dimensionless +- 0.02 dimensionless\n"
     ]
    }
   ],
   "source": [
    "data = {\n",
    "    'V_pp': [5,0.1,'V'],\n",
    "    'V_od': [\n",
    "        np.array([2.3,2.4,2.5,2.4,2.4,2.4,2.3,2.3,2,2.4,2.6,1.1,2.7]),\n",
    "        0.1,\n",
    "        'V'\n",
    "    ],\n",
    "    'divs': [\n",
    "        np.array([1,1,1,1,1,1,1,1,1,0.5,0.2,0.1,0.5]),\n",
    "        0,\n",
    "        ''\n",
    "    ]\n",
    "}\n",
    "expr = 'V_od*divs/(V_pp/2)'\n",
    "print_err_report(expr,data)"
   ]
  },
  {
   "cell_type": "code",
   "execution_count": 14,
   "id": "b46dc3c2-cf75-454b-9c42-531ff2dda87b",
   "metadata": {},
   "outputs": [
    {
     "name": "stdout",
     "output_type": "stream",
     "text": [
      "0.0 second +- 5×10⁻⁵ second\n",
      "0.0 second +- 5×10⁻⁵ second\n",
      "0.0 second +- 5×10⁻⁵ second\n",
      "1×10⁻⁵ second +- 1×10⁻⁵ second\n",
      "3×10⁻⁵ second +- 1×10⁻⁵ second\n",
      "2.5×10⁻⁵ second +- 5×10⁻⁶ second\n",
      "2.2×10⁻⁵ second +- 2×10⁻⁶ second\n",
      "1.5×10⁻⁵ second +- 1×10⁻⁶ second\n",
      "7.5×10⁻⁶ second +- 5×10⁻⁷ second\n",
      "1.1×10⁻⁵ second +- 1×10⁻⁶ second\n",
      "\n",
      "0.0 dimensionless +- 2.0 dimensionless\n",
      "0.0 dimensionless +- 4.0 dimensionless\n",
      "0.0 dimensionless +- 9.0 dimensionless\n",
      "4.0 dimensionless +- 4.0 dimensionless\n",
      "22.0 dimensionless +- 7.0 dimensionless\n",
      "45.0 dimensionless +- 9.0 dimensionless\n",
      "80.0 dimensionless +- 7.0 dimensionless\n",
      "108.0 dimensionless +- 7.0 dimensionless\n",
      "136.0 dimensionless +- 9.0 dimensionless\n",
      "36.0 dimensionless +- 3.0 dimensionless\n"
     ]
    }
   ],
   "source": [
    "data = {\n",
    "    'n_divs': [\n",
    "        np.array([0,0,0,0.1,0.3,0.5,1.1,1.5,1.5,1.1]),\n",
    "        0.1,\n",
    "        ''\n",
    "    ],\n",
    "    'divs': [\n",
    "        np.array([0.5e-3,0.5e-3,0.5e-3,0.1e-3,0.1e-3,50e-6,20e-6,10e-6,5e-6,10e-6]),\n",
    "        0,\n",
    "        'sec'\n",
    "    ],\n",
    "    'f': [\n",
    "        np.array([99,202,500,998,1999,5.01e3,10.05e3,20.00e3,50.2e3,9.05e3]),\n",
    "        np.array([1,1,1,1,1,0.01e3,0.01e3,0.01e3,0.1e3,0.01e3]),\n",
    "        'Hz'\n",
    "    ]\n",
    "}\n",
    "expr = 'n_divs*divs'\n",
    "print_err_report(expr,data)\n",
    "\n",
    "print()\n",
    "expr = '2*pi*n_divs*divs*f*180/pi'\n",
    "print_err_report(expr,data,'dimensionless')"
   ]
  },
  {
   "cell_type": "markdown",
   "id": "ab6eea35-099c-46da-86ef-5877396bbfdd",
   "metadata": {},
   "source": [
    "# 5. RC High-Pass Filter"
   ]
  },
  {
   "cell_type": "code",
   "execution_count": null,
   "id": "56e2f812-a515-48b3-b766-49036dd0550a",
   "metadata": {},
   "outputs": [],
   "source": [
    "data = {\n",
    "    'V_pp': [5,0.1,'V'],\n",
    "    'V_od': [\n",
    "        np.array([2.8,2.7,2.7,1.3,1,2.2,1.4,1.2,0.6,2.8]),\n",
    "        0.1,\n",
    "        'V'\n",
    "    ],\n",
    "    'divs': [\n",
    "        np.array([10e-3,20e-3,50e-3,0.1,0.5,1,1,1,0.5]),\n",
    "        0,\n",
    "        ''\n",
    "    ]\n",
    "}\n",
    "expr = 'V_od*divs/(V_pp/2)'\n",
    "print_err_report(expr,data)"
   ]
  },
  {
   "cell_type": "code",
   "execution_count": 15,
   "id": "ea6e794d-e506-4c40-bf2c-d37fea169610",
   "metadata": {},
   "outputs": [
    {
     "name": "stdout",
     "output_type": "stream",
     "text": [
      "0.0026 second +- 0.0002 second\n",
      "0.0012 second +- 0.0001 second\n",
      "0.0005 second +- 5×10⁻⁵ second\n",
      "0.0002 second +- 2×10⁻⁵ second\n",
      "0.0001 second +- 1×10⁻⁵ second\n",
      "2×10⁻⁵ second +- 5×10⁻⁶ second\n",
      "2×10⁻⁶ second +- 2×10⁻⁶ second\n",
      "2×10⁻⁶ second +- 2×10⁻⁶ second\n",
      "2.5×10⁻⁶ second +- 5×10⁻⁷ second\n",
      "2×10⁻⁶ second +- 1×10⁻⁶ second\n",
      "\n",
      "95.0 dimensionless +- 7.0 dimensionless\n",
      "87.0 dimensionless +- 7.0 dimensionless\n",
      "90.0 dimensionless +- 9.0 dimensionless\n",
      "72.0 dimensionless +- 7.0 dimensionless\n",
      "72.0 dimensionless +- 7.0 dimensionless\n",
      "36.0 dimensionless +- 9.0 dimensionless\n",
      "7.0 dimensionless +- 7.0 dimensionless\n",
      "10.0 dimensionless +- 10.0 dimensionless\n",
      "45.0 dimensionless +- 9.0 dimensionless\n",
      "7.0 dimensionless +- 3.0 dimensionless\n"
     ]
    }
   ],
   "source": [
    "data = {\n",
    "    'n_divs': [\n",
    "        np.array([1.3,1.2,1,1,1,0.4,0.1,0.1,0.5,0.2]),\n",
    "        0.1,\n",
    "        ''\n",
    "    ],\n",
    "    'divs': [\n",
    "        np.array([2e-3,1e-3,0.5e-3,0.2e-3,0.1e-3,50e-6,20e-6,20e-6,5e-6,10e-6]),\n",
    "        0,\n",
    "        'sec'\n",
    "    ],\n",
    "    'f': [\n",
    "        np.array([102,201,501,997,1997,5000,9.98e3,19.99e3,49.9e3,9.05e3]),\n",
    "        np.array([1  ,1  ,1  ,1  ,1   ,1   ,0.01e3,0.01e3 ,0.1e3 ,0.01e3]),\n",
    "        'Hz'\n",
    "    ]\n",
    "}\n",
    "expr = 'n_divs*divs'\n",
    "print_err_report(expr,data)\n",
    "\n",
    "print()\n",
    "expr = '2*pi*n_divs*divs*f*180/pi'\n",
    "print_err_report(expr,data,'dimensionless')"
   ]
  },
  {
   "cell_type": "code",
   "execution_count": null,
   "id": "8c79971a-0ae4-4e18-8a39-11f63c4c612f",
   "metadata": {},
   "outputs": [],
   "source": []
  },
  {
   "cell_type": "code",
   "execution_count": null,
   "id": "62b514d9-682c-4b84-af70-2dab1595e332",
   "metadata": {},
   "outputs": [],
   "source": []
  }
 ],
 "metadata": {
  "kernelspec": {
   "display_name": "Python 3 (ipykernel)",
   "language": "python",
   "name": "python3"
  },
  "language_info": {
   "codemirror_mode": {
    "name": "ipython",
    "version": 3
   },
   "file_extension": ".py",
   "mimetype": "text/x-python",
   "name": "python",
   "nbconvert_exporter": "python",
   "pygments_lexer": "ipython3",
   "version": "3.10.6"
  }
 },
 "nbformat": 4,
 "nbformat_minor": 5
}
