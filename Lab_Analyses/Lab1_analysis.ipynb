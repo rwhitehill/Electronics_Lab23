{
 "cells": [
  {
   "cell_type": "code",
   "execution_count": 1,
   "id": "1aa0141f-e5f6-490c-a6fe-4970a9422d04",
   "metadata": {},
   "outputs": [],
   "source": [
    "from error_prop import print_err_report\n",
    "import numpy as np"
   ]
  },
  {
   "cell_type": "markdown",
   "id": "7f7bcddf-3038-40af-9840-62974db23ca4",
   "metadata": {},
   "source": [
    "# Part A"
   ]
  },
  {
   "cell_type": "code",
   "execution_count": 2,
   "id": "90cb1d8b-9129-42ce-b40f-171f2266d21f",
   "metadata": {},
   "outputs": [
    {
     "name": "stdout",
     "output_type": "stream",
     "text": [
      "3.13 volt +- 0.01 volt\n",
      "0.01 volt +- 0.01 volt\n"
     ]
    }
   ],
   "source": [
    "data = {'V1': [1.57,0.01,'V'],\n",
    "        'V2': [1.56,0.01,'V']\n",
    "       }\n",
    "# series\n",
    "expr = 'V1+V2'\n",
    "print_err_report(expr,data)\n",
    "\n",
    "# reverse polarity\n",
    "expr = 'V1-V2'\n",
    "print_err_report(expr,data)"
   ]
  },
  {
   "cell_type": "markdown",
   "id": "b219d1f6-35c7-4b61-ba35-8e6cb9c1c584",
   "metadata": {},
   "source": [
    "# Part C"
   ]
  },
  {
   "cell_type": "code",
   "execution_count": null,
   "id": "b4b350e8-37df-4212-bc9d-9b7f91334dab",
   "metadata": {},
   "outputs": [],
   "source": [
    "listed   = np.array([47e0,5.8e0,2.2e0,68e-1,27e-1,68e1,18e1,12e1,47e0,68e0])\n",
    "tol      = 0.05\n",
    "\n",
    "measured = np.array([47.4,5.5,3.1,9.1,4.5,6.79e02,1.88e02,1.22e02,4.68e01,6.73e01])\n",
    "\n",
    "print([1 if 0.95*lis < meas < 1.05*lis else 0 for lis,meas in zip(listed,measured)])\n",
    "\n",
    "# good to measure the resistance\n",
    "#     - the size of the tolerance varies at 5% between small and large resistors\n",
    "#     - resistace can potentially vary with external conditions (temperature, etc.)"
   ]
  },
  {
   "cell_type": "code",
   "execution_count": null,
   "id": "58773a1c-45ce-4e7b-a9bd-565a45d76c7a",
   "metadata": {},
   "outputs": [],
   "source": [
    "data = {'R1': [47.5,0.1,'ohm'],\n",
    "        'R2': [75.4,0.1,'ohm']\n",
    "       }\n",
    "# series\n",
    "expr = 'R1 + R2'\n",
    "print_err_report(expr,data)\n",
    "\n",
    "# parallel\n",
    "expr = '1/(1/R1 + 1/R2)'\n",
    "print_err_report(expr,data)"
   ]
  },
  {
   "cell_type": "markdown",
   "id": "474c5700-0980-40fe-99a5-f9abf3ed4ecd",
   "metadata": {},
   "source": [
    "# Part D"
   ]
  },
  {
   "cell_type": "code",
   "execution_count": 5,
   "id": "5b363709-198a-4015-9f9c-2e8e62a0f91c",
   "metadata": {},
   "outputs": [
    {
     "name": "stdout",
     "output_type": "stream",
     "text": [
      "2.7 milliampere +- 0.2 milliampere\n"
     ]
    }
   ],
   "source": [
    "data = {'V': [1.5,0.1,'V'],\n",
    "        'R': [0.554,0.001,'kohm']\n",
    "       }\n",
    "expr = 'V/R'\n",
    "print_err_report(expr,data,'mA')"
   ]
  },
  {
   "cell_type": "markdown",
   "id": "13301f8b-675d-4914-b368-be75beb506df",
   "metadata": {},
   "source": [
    "# Part E"
   ]
  },
  {
   "cell_type": "code",
   "execution_count": null,
   "id": "7f3e2ffd-82a9-47ad-a295-bab20c849c91",
   "metadata": {},
   "outputs": [],
   "source": []
  },
  {
   "cell_type": "code",
   "execution_count": null,
   "id": "14648d42-eee7-488f-8483-4d038672829e",
   "metadata": {},
   "outputs": [],
   "source": []
  },
  {
   "cell_type": "code",
   "execution_count": null,
   "id": "e6246283-db97-4348-a801-e84d4564edbd",
   "metadata": {},
   "outputs": [],
   "source": []
  },
  {
   "cell_type": "code",
   "execution_count": null,
   "id": "7c72f8c0-4200-4033-876c-233dfb22e881",
   "metadata": {},
   "outputs": [],
   "source": []
  },
  {
   "cell_type": "code",
   "execution_count": null,
   "id": "8dc2086e-d731-475b-a3b9-b2c0c4e4a59a",
   "metadata": {},
   "outputs": [],
   "source": []
  }
 ],
 "metadata": {
  "kernelspec": {
   "display_name": "Python 3 (ipykernel)",
   "language": "python",
   "name": "python3"
  },
  "language_info": {
   "codemirror_mode": {
    "name": "ipython",
    "version": 3
   },
   "file_extension": ".py",
   "mimetype": "text/x-python",
   "name": "python",
   "nbconvert_exporter": "python",
   "pygments_lexer": "ipython3",
   "version": "3.9.7"
  }
 },
 "nbformat": 4,
 "nbformat_minor": 5
}
